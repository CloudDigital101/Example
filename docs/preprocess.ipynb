{
 "cells": [
  {
   "cell_type": "code",
   "execution_count": 2,
   "metadata": {},
   "outputs": [],
   "source": [
    "import pandas as pd\n",
    "\n",
    "# Load DataFrames\n",
    "earthquakesD = pd.read_csv('datasets/Earthquakes 2024-06-20.tsv', sep='\\t')\n",
    "earthquakesYears = earthquakesD['Year'][earthquakesD['Year'] < 0].abs().astype(int)\n",
    "\n",
    "eruptionD = pd.read_csv('datasets/eruptions.csv')\n",
    "eruptionYears = eruptionD['start_year'][eruptionD['start_year'] < 0].abs().astype(int)\n",
    "\n",
    "df = pd.read_csv('datasets/Temperature dataset 20000 years.csv')\n",
    "filtered_df = df[['Age (yr BP)', 'Temperature Anomaly (°C) ']].rename(columns={'Age (yr BP)': 'Age', 'Temperature Anomaly (°C)': 'Temperature Anomaly'})\n",
    "\n",
    "temp800D_df = pd.read_csv('datasets/Temperature dataset 800,000 years.csv')\n",
    "\n",
    "temp800D_df.to_csv('preprocess/pre_Temperature_dataset_800000_years.csv', index=False)\n",
    "\n",
    "# Define bins for the ages\n",
    "bins = filtered_df['Age']\n",
    "\n",
    "# Bin earthquake years\n",
    "earthquake_counts = earthquakesYears.value_counts(bins=bins).sort_index()\n",
    "\n",
    "# Bin eruption years\n",
    "eruption_counts = eruptionYears.value_counts(bins=bins).sort_index()\n",
    "\n",
    "# Add these counts to the filtered_df DataFrame\n",
    "filtered_df['Earthquake Counts'] = filtered_df['Age'].map(earthquake_counts).fillna(0).astype(int)\n",
    "filtered_df['Eruption Counts'] = filtered_df['Age'].map(eruption_counts).fillna(0).astype(int)\n",
    "\n",
    "filtered_df.to_csv('preprocess/pre_Temperature_dataset_20000_years.csv', index=False)"
   ]
  },
  {
   "cell_type": "code",
   "execution_count": null,
   "metadata": {},
   "outputs": [],
   "source": [
    "df_emissions = pd.read_csv('datasets/emissions.csv')\n",
    "df_electricity = pd.read_csv('datasets/electricity.csv')\n",
    "\n",
    "\n",
    "merged_df = pd.merge(df_emissions, df_electricity, on=['Entity', 'Code', 'Year'], how='inner')\n",
    "\n",
    "merged_df['Total Fossil Fuel Usage'] = merged_df[['Coal', 'Gas', 'Oil']].sum(axis=1)\n",
    "\n",
    "filtered_df = merged_df[(merged_df['Total Fossil Fuel Usage'] > 0) & (merged_df['Year'] >= 2000)]\n",
    "\n",
    "filtered_df.to_csv('preprocess/pre_fossil_fuel_emissions.csv', index=False)\n",
    "\n",
    "correlation = filtered_df[['Total Fossil Fuel Usage', 'Annual CO₂ emissions (per capita)']].corr().loc['Total Fossil Fuel Usage', 'Annual CO₂ emissions (per capita)']\n",
    "print(f'Correlation between Total Fossil Fuel Usage and CO₂ Emissions: {correlation:.2f}')"
   ]
  }
 ],
 "metadata": {
  "kernelspec": {
   "display_name": "base",
   "language": "python",
   "name": "python3"
  },
  "language_info": {
   "codemirror_mode": {
    "name": "ipython",
    "version": 3
   },
   "file_extension": ".py",
   "mimetype": "text/x-python",
   "name": "python",
   "nbconvert_exporter": "python",
   "pygments_lexer": "ipython3",
   "version": "3.11.7"
  }
 },
 "nbformat": 4,
 "nbformat_minor": 2
}
