{
 "cells": [
  {
   "cell_type": "markdown",
   "metadata": {},
   "source": [
    "# Data pre-processing\n",
    "\n",
    "We began by gathering and refining data on earthquakes, volcanic eruptions, and temperature anomalies. We sourced earthquake data and focused on years before the Common Era, converting these years to positive integers for consistency. Similarly, we obtained eruption data and processed the start years in the same manner. For temperature anomalies, we extracted relevant columns and renamed them for clarity. Additionally, we ensured our long-term temperature dataset spanning 800,000 years was properly formatted.\n",
    "\n",
    "Next, we needed to combine this data. By creating bins, we mapped earthquake and eruption counts to corresponding time periods. This allowed us to visualize the frequency of these events alongside temperature changes, providing a clearer picture of their potential impact on the climate.\n",
    "\n",
    "We also merged datasets containing information on emissions and electricity generation, calculating the total fossil fuel usage by summing the contributions from coal, gas, and oil. Focusing on data from the year 2000 onwards, we filtered out any entries with zero fossil fuel usage to ensure our analysis was relevant and accurate. With this merged dataset, we were able to analyze the correlation between fossil fuel usage and CO₂ emissions.\n",
    "\n",
    "At last, the datasets for the figures about temperature anomalies in the last 150 years and electricity generation by source contained irrelevent columns about other topics which were removed to make the data easier to read. These datasets did not require more pre-processing as all the data we needed was present."
   ]
  },
  {
   "cell_type": "code",
   "execution_count": 3,
   "metadata": {},
   "outputs": [
    {
     "name": "stdout",
     "output_type": "stream",
     "text": [
      "Hello, World!\n"
     ]
    }
   ],
   "source": [
    "print('Hello, World!')"
   ]
  },
  {
   "cell_type": "code",
   "execution_count": null,
   "metadata": {},
   "outputs": [],
   "source": []
  }
 ],
 "metadata": {
  "kernelspec": {
   "display_name": "base",
   "language": "python",
   "name": "python3"
  },
  "language_info": {
   "codemirror_mode": {
    "name": "ipython",
    "version": 3
   },
   "file_extension": ".py",
   "mimetype": "text/x-python",
   "name": "python",
   "nbconvert_exporter": "python",
   "pygments_lexer": "ipython3",
   "version": "3.11.7"
  }
 },
 "nbformat": 4,
 "nbformat_minor": 2
}
